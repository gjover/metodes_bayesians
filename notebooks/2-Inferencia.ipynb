{
 "cells": [
  {
   "cell_type": "markdown",
   "id": "2b3e1bd8",
   "metadata": {},
   "source": [
    "## Inferencia Bayesiana\n",
    "\n",
    "[<center><img src=https://upload.wikimedia.org/wikipedia/commons/1/18/Bayes%27_Theorem_MMB_01.jpg width=50%></center>](#img_Bayes)\n",
    "\n",
    "\n",
    "[colab]: https://colab.research.google.com/github/gjover/metodes_bayesians/blob/main/notebooks/2-Inferencia.ipynb"
   ]
  },
  {
   "cell_type": "markdown",
   "id": "477d00bf",
   "metadata": {},
   "source": [
    "### Exercici 1:\n",
    "\n",
    "En un curs amb 120 alumes, 17 suspenen el primer parcial.\n",
    "\n",
    "De cara l'examen final:\n",
    "- Quin és l'interval de credibilitat de la proporció $\\theta$ d'aprovar amb un priori no informatiu?\n",
    "- I amb un prior Beta amb $\\alpha = 40$, $\\beta = 1$?"
   ]
  },
  {
   "cell_type": "markdown",
   "id": "041945af",
   "metadata": {},
   "source": [
    "### Exercici 2:\n",
    "\n",
    "Suposem que teniu una distribució prèvia $\\textrm{Beta}(4, 4)$  sobre la probabilitat $\\theta$ que una moneda doni una \"cara\" quan es llença. La moneda es llença deu vegades de manera independent i les \"cares\" apareixen menys de 3 vegades.\n",
    "No us diuen quantes cares s'han vist, només que el nombre és inferior a 3. Calculeu la vostra densitat posterior exacta (fins a una constant de proporcionalitat) per a $\\theta$ i dibuixeu-la."
   ]
  },
  {
   "cell_type": "markdown",
   "id": "baf0e8d6",
   "metadata": {},
   "source": [
    "## Referències\n",
    "\n",
    "- David Agis,**2022**. *Problemes de Mètodes Bayesians 2022-2023*\n",
    "- <a id='img_Bayes'></a> https://commons.wikimedia.org/wiki/File:Bayes'_Theorem_MMB_01.jpg"
   ]
  },
  {
   "cell_type": "markdown",
   "id": "50b4456a",
   "metadata": {},
   "source": [
    "Copyright (C) 2022 Gabriel Jover Mañas\n",
    "\n",
    "    Permission is granted to copy, distribute and/or modify this document\n",
    "    under the terms of the GNU Free Documentation License, Version 1.3\n",
    "    or any later version published by the Free Software Foundation;\n",
    "    with no Invariant Sections, no Front-Cover Texts, and no Back-Cover Texts.\n",
    "    A copy of the license is included in the section entitled \"GNU\n",
    "    Free Documentation License\".\n",
    "\n",
    "![GFDL][GFDL]\n",
    "\n",
    "    This program is free software: you can redistribute it and/or modify\n",
    "    it under the terms of the GNU General Public License as published by\n",
    "    the Free Software Foundation, either version 3 of the License, or\n",
    "    (at your option) any later version.\n",
    "\n",
    "    This program is distributed in the hope that it will be useful,\n",
    "    but WITHOUT ANY WARRANTY; without even the implied warranty of\n",
    "    MERCHANTABILITY or FITNESS FOR A PARTICULAR PURPOSE.  See the\n",
    "    GNU General Public License for more details.\n",
    "\n",
    "    You should have received a copy of the GNU General Public License\n",
    "    along with this program.  If not, see <https://www.gnu.org/licenses/>.\n",
    "\n",
    "![GPL3][GPL3]\n",
    "\n",
    "[GFDL]: https://www.gnu.org/graphics/gfdl-logo-small.png \n",
    "[GPL3]: https://www.gnu.org/graphics/gplv3-127x51.png"
   ]
  }
 ],
 "metadata": {
  "jupytext": {
   "formats": "ipynb,Rmd"
  },
  "kernelspec": {
   "display_name": "R",
   "language": "R",
   "name": "ir"
  },
  "language_info": {
   "codemirror_mode": "r",
   "file_extension": ".r",
   "mimetype": "text/x-r-source",
   "name": "R",
   "pygments_lexer": "r",
   "version": "4.2.3"
  }
 },
 "nbformat": 4,
 "nbformat_minor": 5
}
