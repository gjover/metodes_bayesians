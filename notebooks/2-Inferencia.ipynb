{
 "cells": [
  {
   "cell_type": "markdown",
   "id": "915d2efc",
   "metadata": {},
   "source": [
    "## [Inferencia Bayesiana][colab]\n",
    "\n",
    "[<center><img src=https://upload.wikimedia.org/wikipedia/commons/0/0b/Microscopic_view_of_germ_theory.jpg width=50%></center>](#img_Bayes)\n",
    "\n",
    "\n",
    "[colab]: https://colab.research.google.com/github/gjover/metodes_bayesians/blob/main/notebooks/2-Inferencia.ipynb"
   ]
  },
  {
   "cell_type": "markdown",
   "id": "533366ff",
   "metadata": {},
   "source": [
    "### Exercici 1:\n",
    "\n",
    "En un curs amb 120 alumes, 17 suspenen el primer parcial.\n",
    "\n",
    "De cara l'examen final:\n",
    "- Quin és l'interval de credibilitat de la proporció $\\theta$ d'aprovar amb un priori no informatiu?\n",
    "- I amb un prior Beta amb $\\alpha = 40$, $\\beta = 1$?"
   ]
  },
  {
   "cell_type": "markdown",
   "id": "1f7f8c21",
   "metadata": {},
   "source": [
    "### Exercici 2:\n",
    "\n",
    "Suposem que teniu una distribució prèvia $\\textrm{Beta}(4, 4)$  sobre la probabilitat $\\theta$ que una moneda doni una \"cara\" quan es llença. La moneda es llença deu vegades de manera independent i les \"cares\" apareixen menys de 3 vegades.\n",
    "No us diuen quantes cares s'han vist, només que el nombre és inferior a 3. \n",
    "\n",
    "- Calculeu la vostra densitat posterior exacta (fins a una constant de proporcionalitat) per a $\\theta$ i dibuixeu-la."
   ]
  },
  {
   "cell_type": "markdown",
   "id": "6619889f",
   "metadata": {},
   "source": [
    "### Exercici 3:\n",
    "\n",
    "Continuant amb l'exercici anterior, analitzarem el cas general.\n",
    "\n",
    "Sigui $\\gamma$ la quantitat de cares que obtenim quan tirem una moneda a l'aire $n$ vegades, amb una probabilitat $\\theta$ de què surti cara.\n",
    "\n",
    "- Suposant un prior $U(\\theta; 0, 1)$, calcula la distribució prior predictiva per $P(\\gamma_{\\text{new}}=k)$ , $k=0, ... ,n$"
   ]
  },
  {
   "cell_type": "markdown",
   "id": "b6494f18",
   "metadata": {},
   "source": [
    "- Suposant un prior $\\textrm{Beta}(\\theta; \\alpha, \\beta)$, mostra algebraicament que el valor esperat de $\\theta$ sempre es trobarà entre la mitjana del prior i la freqüència relativa observada."
   ]
  },
  {
   "cell_type": "markdown",
   "id": "cfe8813f",
   "metadata": {},
   "source": [
    "- Mostra que per a una distribució prior de $\\theta$ uniforme, la variància de $\\theta$ sempre és menor que la variància del prior."
   ]
  },
  {
   "cell_type": "markdown",
   "id": "35e16810",
   "metadata": {},
   "source": [
    "- Dona un exemple de distribució prior $\\textrm{Beta}(\\theta; \\alpha, \\beta)$ i dades $\\gamma, n$ on la variància del posterior de $\\theta$ sigui major que la variància del prior."
   ]
  },
  {
   "cell_type": "markdown",
   "id": "c87d790b",
   "metadata": {},
   "source": [
    "### Exercici 4:\n",
    "\n",
    "Es fa un estudi de la probabilitat $\\theta$ de què una dona entre 60 i 69 anys doni positiu en càncer so té un historial familiar amb casos de càncer. A l'estudi participen 300 dones amb aquestes característiques, de les quals 14 donen positiu.\n",
    "\n",
    "- Calcula el likelihood $\\mathcal{L}(X|\\theta)$"
   ]
  },
  {
   "cell_type": "markdown",
   "id": "e3639eb4",
   "metadata": {},
   "source": [
    "Segons un expert, la seva experiència en el cap indica que aquesta probabilitat és menor del %5.\n",
    "\n",
    "- Fes servir un prior uniforme de 0 a 5% per calcular la densitat posteriori."
   ]
  },
  {
   "cell_type": "markdown",
   "id": "2c1f2be9",
   "metadata": {},
   "source": [
    "- Calcula el valor estimat i l'interval de credibilitat centrat del $95\\%$ per a $\\theta$. "
   ]
  },
  {
   "cell_type": "markdown",
   "id": "c63ace11",
   "metadata": {},
   "source": [
    "### Exercici 5:\n",
    "\n",
    "A un laboratori estem estudiant la vida mitjana d'un cultiu de bacteris quan s'exposen a un producte. El temps de vida dels bacteris segueix una densitat de probabilitat $f(t; \\mu) = 1/\\mu \\ e^{-t/\\mu}$, on $t$ és el temps en hores.\n",
    "\n",
    "- Calcula la distribució prior predictiva fent servir una densitat Gamma Inversa per a $\\mu$ amb una mitjana i desviació estàndard de 4.5 i 0.5 respectivament."
   ]
  },
  {
   "cell_type": "markdown",
   "id": "0770a7ac",
   "metadata": {},
   "source": [
    "- Representa gràficament la densitat predictiva, i calcula el seu valor esperat i variància."
   ]
  },
  {
   "cell_type": "markdown",
   "id": "ae1b3917",
   "metadata": {},
   "source": [
    " - Fent servir un prior uniforme entre \\[3.6, 5.3\\] per al paràmetre $\\mu$, simula valors de la distribució prior predictiva i calcula el seu valor esperat i variància. Compara els resultats amb els de l'apartat anterior."
   ]
  },
  {
   "cell_type": "markdown",
   "id": "29bc8aae",
   "metadata": {},
   "source": [
    "Fent servir les mesures del temps de vida t de 8 cultius:"
   ]
  },
  {
   "cell_type": "code",
   "execution_count": 1,
   "id": "d3edc9ab",
   "metadata": {},
   "outputs": [],
   "source": [
    "t = c(2.56, 0.42, 3.72, 0.64, 10.7, 1.57, 9.62, 2.54)"
   ]
  },
  {
   "cell_type": "markdown",
   "id": "917f737c",
   "metadata": {},
   "source": [
    "- Calcula la distribució posterior predictiva fent servir el prior Gamma Inversa de l'exercici anterior."
   ]
  },
  {
   "cell_type": "markdown",
   "id": "bf6d33fc",
   "metadata": {},
   "source": [
    "- Representa gràficament la densitat predictiva, i calcula el seu valor esperat i variància."
   ]
  },
  {
   "cell_type": "markdown",
   "id": "14921e49",
   "metadata": {},
   "source": [
    "- Simula valors de la distribució posterior predictiva i calcula el seu valor esperat i variància, fent servir un prior uniforme com a l'exercici anterior. Compara els resultats amb els obtinguts amb la distribució prior predictiva."
   ]
  },
  {
   "cell_type": "markdown",
   "id": "103e553d",
   "metadata": {},
   "source": [
    "### Exercici 6:\n",
    "\n",
    "Volem calibrar una balança de precisió fent una sèrie de mesures amb un objecte calibrat.\n",
    "\n",
    "Fes la inferència Bayesiana de $\\sigma^2$ fent servir la mesura dels pesos:"
   ]
  },
  {
   "cell_type": "code",
   "execution_count": 2,
   "id": "c68df12a",
   "metadata": {},
   "outputs": [],
   "source": [
    "w = c(2.64, 2.67, 2.65, 2.67, 2.65) # g"
   ]
  },
  {
   "cell_type": "markdown",
   "id": "68a30da2",
   "metadata": {},
   "source": [
    "- Assumeix que la massa de l'objecte calibrat és $\\mu =  2.6g$ i calcula la seva precisió $\\sigma^2$ fent servir un prior $\\pi(\\sigma^2) \\propto  1/\\sigma^4$."
   ]
  },
  {
   "cell_type": "markdown",
   "id": "b7cae53c",
   "metadata": {},
   "source": [
    "- Calcula l'estimació puntual i l'interval per una credibilitat del $95\\%$"
   ]
  },
  {
   "cell_type": "markdown",
   "id": "10fcb58b",
   "metadata": {},
   "source": [
    "### Exercici 7:\n",
    "\n",
    "- Demostra que el prior de Jeffreys per la distribució de Poisson és:\n",
    "\n",
    "$$\\pi_J (\\lambda) \\propto \\frac{1}{\\sqrt{\\lambda}}$$"
   ]
  },
  {
   "cell_type": "markdown",
   "id": "82b91511",
   "metadata": {},
   "source": [
    "- Calcula el prior de Jeffreys per a una distribució normal amb $\\sigma^2$ coneguda."
   ]
  },
  {
   "cell_type": "markdown",
   "id": "cdf82dfa",
   "metadata": {},
   "source": [
    "## Referències\n",
    "\n",
    "- Glickman & van Dyk, **2007**. *Basic Bayesian Methods*\n",
    "- David Agis & Dorota M lynarczyk,**2022**. *Problemes de Mètodes Bayesians 2022-2023*\n",
    "- <a id='img_Bayes'></a> https://commons.wikimedia.org/wiki/File:Microscopic_view_of_germ_theory.jpg"
   ]
  },
  {
   "cell_type": "markdown",
   "id": "04593902",
   "metadata": {
    "cell_style": "center"
   },
   "source": [
    "Copyright (C) 2022 Gabriel Jover Mañas\n",
    "\n",
    "    Permission is granted to copy, distribute and/or modify this document\n",
    "    under the terms of the GNU Free Documentation License, Version 1.3\n",
    "    or any later version published by the Free Software Foundation;\n",
    "    with no Invariant Sections, no Front-Cover Texts, and no Back-Cover Texts.\n",
    "    A copy of the license is included in the section entitled \"GNU\n",
    "    Free Documentation License\".\n",
    "\n",
    "![GFDL][GFDL]\n",
    "\n",
    "    This program is free software: you can redistribute it and/or modify\n",
    "    it under the terms of the GNU General Public License as published by\n",
    "    the Free Software Foundation, either version 3 of the License, or\n",
    "    (at your option) any later version.\n",
    "\n",
    "    This program is distributed in the hope that it will be useful,\n",
    "    but WITHOUT ANY WARRANTY; without even the implied warranty of\n",
    "    MERCHANTABILITY or FITNESS FOR A PARTICULAR PURPOSE.  See the\n",
    "    GNU General Public License for more details.\n",
    "\n",
    "    You should have received a copy of the GNU General Public License\n",
    "    along with this program.  If not, see <https://www.gnu.org/licenses/>.\n",
    "\n",
    "![GPL3][GPL3]\n",
    "\n",
    "[GFDL]: https://www.gnu.org/graphics/gfdl-logo-small.png \n",
    "[GPL3]: https://www.gnu.org/graphics/gplv3-127x51.png"
   ]
  }
 ],
 "metadata": {
  "jupytext": {
   "formats": "ipynb,Rmd"
  },
  "kernelspec": {
   "display_name": "R",
   "language": "R",
   "name": "ir"
  },
  "language_info": {
   "codemirror_mode": "r",
   "file_extension": ".r",
   "mimetype": "text/x-r-source",
   "name": "R",
   "pygments_lexer": "r",
   "version": "4.2.3"
  }
 },
 "nbformat": 4,
 "nbformat_minor": 5
}
