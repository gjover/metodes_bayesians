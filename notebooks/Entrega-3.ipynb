{
 "cells": [
  {
   "cell_type": "markdown",
   "id": "915d2efc",
   "metadata": {
    "id": "915d2efc",
    "lines_to_next_cell": 0
   },
   "source": [
    "## [Entrega 3][colab]\n",
    "\n",
    "[<center><img src=https://upload.wikimedia.org/wikipedia/commons/thumb/2/20/Speed_Dreams_car_with_headlamps_on_and_glowing_brake_disk.jpg/640px-Speed_Dreams_car_with_headlamps_on_and_glowing_brake_disk.jpg width=50%></center>](#img_Car)\n",
    "\n",
    "\n",
    "[colab]: https://colab.research.google.com/github/gjover/metodes_bayesians/blob/main/notebooks/Entrega-3.ipynb"
   ]
  },
  {
   "cell_type": "markdown",
   "id": "27e224d4",
   "metadata": {
    "id": "ec89d956"
   },
   "source": [
    "### Distància de frenat\n",
    "\n",
    "Per provar un nou compost pels neumàtics es fan unes proves de frenat a diferents velocitats i es mesura la distància de frenat.\n",
    "\n",
    "Volem obtenir les distribucions posterior dels paràmetres del model:\n",
    "\n",
    "\\begin{align}\n",
    "y &=  a + b x_i + c x_i^2 + \\epsilon_i \\\\\n",
    "\\end{align}\n",
    "\n",
    "on les variables del dataset són velocitat (speed = x) i distància de frenat (distance = y).\n",
    "\n",
    "De proves amb neumàtics similars tenim els següents paràmetres: $a = 4.2 \\pm 1.0\\quad b = 0.02 \\pm 0.03 \\quad c = 0.012 \\pm 0.005$\n",
    "\n",
    "Assumint que $\\epsilon$ segueix una distribució normal $\\mathcal{N}(0, \\sigma)$ amb una prior $p(\\sigma) = \\text{Gamma}(10, 1)$."
   ]
  },
  {
   "cell_type": "markdown",
   "id": "f1849c66",
   "metadata": {
    "id": "ec89d956"
   },
   "source": [
    "- Obté analíticament la versemblança i els scores, i calcula el MLE."
   ]
  },
  {
   "cell_type": "markdown",
   "id": "f87f1a04",
   "metadata": {},
   "source": [
    "- Troba les distribucions posterior d' a, b, c i $\\sigma$ fent servir l'algoritme AR"
   ]
  },
  {
   "cell_type": "markdown",
   "id": "8b7d93a0",
   "metadata": {
    "id": "ec89d956"
   },
   "source": [
    "- Troba les distribucions posterior d' a, b, c i $\\sigma$ fent servir l'algoritme Metropolis–Hastings. Fes i interpreta els gràfics de diagnòstic."
   ]
  },
  {
   "cell_type": "markdown",
   "id": "3be016f8",
   "metadata": {
    "id": "ec89d956"
   },
   "source": [
    "- Compara l'autocorrelació de les sèries de dades generades amb els dos mètodes per cada un dels quatre paràmetres."
   ]
  },
  {
   "cell_type": "markdown",
   "id": "3604108b",
   "metadata": {
    "id": "ec89d956"
   },
   "source": [
    "- Troba les distribucions posterior d' a, b, c i $\\sigma$ amb priors no informatives. "
   ]
  },
  {
   "cell_type": "markdown",
   "id": "b1b559f9",
   "metadata": {
    "id": "ec89d956"
   },
   "source": [
    "- Compara els resultats obtinguts amb dels dos tipus de priors i comprova com ajusten la corba a les dades."
   ]
  },
  {
   "cell_type": "markdown",
   "id": "ea8ef7e9",
   "metadata": {},
   "source": [
    "- Per a un cotxe que va a una velocitat de 100 km/h, representeu gràficament la densitat de la distribució de la seva distància de frenada. Calculeu també el valor esperat i un 95% CI. "
   ]
  },
  {
   "cell_type": "markdown",
   "id": "b351c6ae",
   "metadata": {
    "id": "ec89d956"
   },
   "source": [
    "- Representa gràficament la corba i les bandes de credibilitat del 95%.\n",
    "(optatiu)"
   ]
  },
  {
   "cell_type": "code",
   "execution_count": 2,
   "id": "5c29f938",
   "metadata": {},
   "outputs": [],
   "source": [
    "library(MCMCpack)\n",
    "library(ggplot2)"
   ]
  },
  {
   "cell_type": "markdown",
   "id": "7a4aebc5",
   "metadata": {
    "id": "7a4aebc5"
   },
   "source": [
    "### Observacions:\n",
    "\n",
    "Recordeu argumentar adequadament els càlculs i els resultats.\n",
    "\n",
    "Afegiu al final un comentari crític dels resultats obtinguts.\n",
    "\n",
    "Les entregues es faran per parelles, canviat de parella a cada entrega. Els treballs individuals no s'avaluaran.\n",
    "\n",
    "El treball es presentarà en format PDF i haurà d'incloure una anàlisi de la tasca a realitzar, una resolució argumentada dels exercicis i una anàlisi crítica dels resultats.\n",
    "\n",
    "L'entrega es farà al campus virtual abans del 13 de Desembre."
   ]
  },
  {
   "cell_type": "markdown",
   "id": "cdf82dfa",
   "metadata": {
    "id": "cdf82dfa"
   },
   "source": [
    "## Referències\n",
    "\n",
    "- <a id='img_Car'></a> https://commons.wikimedia.org/wiki/File:Speed_Dreams_car_with_headlamps_on_and_glowing_brake_disk.jpg?uselang=es"
   ]
  },
  {
   "cell_type": "markdown",
   "id": "04593902",
   "metadata": {
    "cell_style": "center",
    "id": "04593902"
   },
   "source": [
    "Copyright (C) 2022 Gabriel Jover Mañas\n",
    "\n",
    "    Permission is granted to copy, distribute and/or modify this document\n",
    "    under the terms of the GNU Free Documentation License, Version 1.3\n",
    "    or any later version published by the Free Software Foundation;\n",
    "    with no Invariant Sections, no Front-Cover Texts, and no Back-Cover Texts.\n",
    "    A copy of the license is included in the section entitled \"GNU\n",
    "    Free Documentation License\".\n",
    "\n",
    "![GFDL][GFDL]\n",
    "\n",
    "    This program is free software: you can redistribute it and/or modify\n",
    "    it under the terms of the GNU General Public License as published by\n",
    "    the Free Software Foundation, either version 3 of the License, or\n",
    "    (at your option) any later version.\n",
    "\n",
    "    This program is distributed in the hope that it will be useful,\n",
    "    but WITHOUT ANY WARRANTY; without even the implied warranty of\n",
    "    MERCHANTABILITY or FITNESS FOR A PARTICULAR PURPOSE.  See the\n",
    "    GNU General Public License for more details.\n",
    "\n",
    "    You should have received a copy of the GNU General Public License\n",
    "    along with this program.  If not, see <https://www.gnu.org/licenses/>.\n",
    "\n",
    "![GPL3][GPL3]\n",
    "\n",
    "[GFDL]: https://www.gnu.org/graphics/gfdl-logo-small.png\n",
    "[GPL3]: https://www.gnu.org/graphics/gplv3-127x51.png"
   ]
  }
 ],
 "metadata": {
  "colab": {
   "provenance": []
  },
  "jupytext": {
   "formats": "ipynb,Rmd"
  },
  "kernelspec": {
   "display_name": "R",
   "language": "R",
   "name": "ir"
  },
  "language_info": {
   "codemirror_mode": "r",
   "file_extension": ".r",
   "mimetype": "text/x-r-source",
   "name": "R",
   "pygments_lexer": "r",
   "version": "3.6.3"
  }
 },
 "nbformat": 4,
 "nbformat_minor": 5
}
