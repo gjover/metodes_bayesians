{
 "cells": [
  {
   "cell_type": "markdown",
   "id": "ebe9c8d8",
   "metadata": {
    "id": "ebe9c8d8"
   },
   "source": [
    "## [Introducció][colab]\n",
    "\n",
    "[<center><img src=https://upload.wikimedia.org/wikipedia/commons/1/18/Bayes%27_Theorem_MMB_01.jpg width=50%></center>](#img_Bayes)\n",
    "\n",
    "\n",
    "[colab]: https://colab.research.google.com/github/gjover/metodes_bayesians/blob/main/notebooks/1-Introduccio.ipynb"
   ]
  },
  {
   "cell_type": "markdown",
   "id": "a4ed2c48",
   "metadata": {
    "id": "a4ed2c48"
   },
   "source": [
    "### Exercici 1:\n",
    "\n",
    "El resultat de llançar una moneda equilibrada pot ser cara o creu, amb probabilitat p(cara)=1/2. Si la moneda està carregada p(cara)=3/4. Suposem que el 99% de les monedes són\n",
    "equilibrades. Quina és la probabilitat que una moneda determinada sigui equilibrada si en\n",
    "llançar-la 3 vegades s'obté 3 cares?"
   ]
  },
  {
   "cell_type": "markdown",
   "id": "66bb1c91",
   "metadata": {
    "id": "66bb1c91"
   },
   "source": [
    "### Exercici 2:\n",
    "\n",
    "Aproximadament 1/125 de tots els naixements són bessons fraterns i 1/300 dels\n",
    "naixements són bessons idèntics. Elvis Presley tenia un germà bessó (que va morir en néixer).\n",
    "Quina és la probabilitat que Elvis fos un bessó idèntic? (Podeu aproximar la probabilitat de\n",
    "naixement d'un nen o una nena com a 1/2)."
   ]
  },
  {
   "cell_type": "markdown",
   "id": "8c81bdc0",
   "metadata": {
    "id": "8c81bdc0"
   },
   "source": [
    "### Exercici 3:\n",
    "\n",
    "Suposem que hi ha dues espècies d'os panda. Tots dos són igualment comuns a la natura i viuen als mateixos llocs. S'assemblen exactament i mengen el mateix menjar, i encara no hi ha cap assaig genètic capaç de diferenciar-los. Tanmateix, es diferencien en la mida de la seva família.\n",
    "\n",
    "- L'espècie A dona a llum bessons al 10% dels parts, en cas contrari, dona a llum un sol nadó.\n",
    "- En l'espècie B neixen bessons el 20% dels cops, en cas contrari, neix un sol nadó.\n",
    "\n",
    "Suposem que aquests números es coneixen amb certesa, a partir de molts anys d'investigació de camp."
   ]
  },
  {
   "cell_type": "markdown",
   "id": "c3274599",
   "metadata": {
    "id": "c3274599"
   },
   "source": [
    "#### Exercici 3.1:\n",
    "\n",
    "Ara suposem que esteu gestionant un programa de cria de panda en captivitat. Teniu una nova femella panda d'espècie desconeguda.\n",
    "Calculeu la probabilitat que el panda que tenim sigui de l'espècie A, suposant que només hem observat el primer naixement i que es tracta de bessons."
   ]
  },
  {
   "cell_type": "markdown",
   "id": "d88d862c",
   "metadata": {
    "id": "d88d862c"
   },
   "source": [
    "#### Exercici 3.2:\n",
    "Quina és la probabilitat que el seu proper naixement també siguin bessons?"
   ]
  },
  {
   "cell_type": "markdown",
   "id": "15483389",
   "metadata": {
    "id": "15483389"
   },
   "source": [
    "#### Exercici 3.3:\n",
    "\n",
    "Continuant amb el problema anterior, suposem que la mateixa mare panda té un\n",
    "segon part i que no es tracta de bessons, sinó d'un únic nadó. Calculeu la probabilitat posterior\n",
    "que aquest panda sigui l'espècie A."
   ]
  },
  {
   "cell_type": "markdown",
   "id": "200da724",
   "metadata": {
    "id": "200da724"
   },
   "source": [
    "#### Exercici 3.4:\n",
    "\n",
    "Suposem ara que ve un veterinari que té una nova prova genètica que segons ell pot identificar l'espècie de la nostra mare panda. Però la prova, com totes les proves, és imperfecta. Aquesta és la informació que teniu sobre la prova:\n",
    "\n",
    "- Si el test és positiu es tracta de l'espècie A i si és negatiu és de l'espècie B.\n",
    "- La probabilitat que identifiqui correctament un panda de l'espècie A és de 0,8.\n",
    "- La probabilitat que identifiqui correctament un panda de l'espècie B és de 0,65.\n",
    "\n",
    "El veterinari li fa la prova a la vostra panda i us diu que la prova és positiva per a l'espècie A.\n",
    "Primer ignoreu la informació anterior dels naixements i calculeu la probabilitat posterior que la vostra panda sigui de l'espècie A. A continuació, torneu a fer el vostre càlcul, ara utilitzant les dades del naixement també.\n"
   ]
  },
  {
   "cell_type": "markdown",
   "id": "1010c02a",
   "metadata": {
    "id": "1010c02a"
   },
   "source": [
    "### Exercici 4:\n",
    "\n",
    "A una escola hi ha tres grups A, B i C.\n",
    "Al grup A hi ha 16 nens i 10 nenes, al grup B 8 nens i 20 nenes i al grup C 13 nens i 14 nenes.\n",
    "\n",
    "Si ens trobem a una nena, quina probabilitat hi ha què sigui del grup B?"
   ]
  },
  {
   "cell_type": "markdown",
   "id": "293e21c9",
   "metadata": {},
   "source": [
    "## Referències\n",
    "\n",
    "- David Agis,**2022**. *Problemes de Mètodes Bayesians 2022-2023*\n",
    "- <a id='img_Bayes'></a> https://commons.wikimedia.org/wiki/File:Bayes'_Theorem_MMB_01.jpg"
   ]
  },
  {
   "cell_type": "markdown",
   "id": "04b093d2",
   "metadata": {},
   "source": [
    "Copyright (C) 2022 Gabriel Jover Mañas\n",
    "\n",
    "    Permission is granted to copy, distribute and/or modify this document\n",
    "    under the terms of the GNU Free Documentation License, Version 1.3\n",
    "    or any later version published by the Free Software Foundation;\n",
    "    with no Invariant Sections, no Front-Cover Texts, and no Back-Cover Texts.\n",
    "    A copy of the license is included in the section entitled \"GNU\n",
    "    Free Documentation License\".\n",
    "\n",
    "![GFDL][GFDL]\n",
    "\n",
    "    This program is free software: you can redistribute it and/or modify\n",
    "    it under the terms of the GNU General Public License as published by\n",
    "    the Free Software Foundation, either version 3 of the License, or\n",
    "    (at your option) any later version.\n",
    "\n",
    "    This program is distributed in the hope that it will be useful,\n",
    "    but WITHOUT ANY WARRANTY; without even the implied warranty of\n",
    "    MERCHANTABILITY or FITNESS FOR A PARTICULAR PURPOSE.  See the\n",
    "    GNU General Public License for more details.\n",
    "\n",
    "    You should have received a copy of the GNU General Public License\n",
    "    along with this program.  If not, see <https://www.gnu.org/licenses/>.\n",
    "\n",
    "![GPL3][GPL3]\n",
    "\n",
    "[GFDL]: https://www.gnu.org/graphics/gfdl-logo-small.png \n",
    "[GPL3]: https://www.gnu.org/graphics/gplv3-127x51.png"
   ]
  }
 ],
 "metadata": {
  "colab": {
   "provenance": []
  },
  "jupytext": {
   "formats": "ipynb,Rmd"
  },
  "kernelspec": {
   "display_name": "R",
   "language": "R",
   "name": "ir"
  },
  "language_info": {
   "codemirror_mode": "r",
   "file_extension": ".r",
   "mimetype": "text/x-r-source",
   "name": "R",
   "pygments_lexer": "r",
   "version": "4.2.3"
  }
 },
 "nbformat": 4,
 "nbformat_minor": 5
}
