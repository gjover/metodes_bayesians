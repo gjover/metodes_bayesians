{
 "cells": [
  {
   "cell_type": "markdown",
   "id": "915d2efc",
   "metadata": {},
   "source": [
    "## [Entrega 1][colab]\n",
    "\n",
    "[<center><img src=https://upload.wikimedia.org/wikipedia/commons/4/43/Circinus_X-1.jpg width=50%></center>](#img_Circinus)\n",
    "\n",
    "\n",
    "[colab]: https://colab.research.google.com/github/gjover/metodes_bayesians/blob/main/notebooks/Entrega-1.ipynb"
   ]
  },
  {
   "cell_type": "markdown",
   "id": "533366ff",
   "metadata": {},
   "source": [
    "### Font de raig X:\n",
    "\n",
    "Tenim un detector de fotons per mesurar la posició d'un estel. La distribució dels fotons en arribar al detector és $\\mathcal{N}(\\mu, \\sigma^2)$ amb una resolució $\\sigma = 1.2$.\n",
    "\n",
    "Fent servir les dades de photon.csv:"
   ]
  },
  {
   "cell_type": "code",
   "execution_count": 1,
   "id": "b3672397",
   "metadata": {},
   "outputs": [],
   "source": [
    "photons_csv = \"https://raw.githubusercontent.com/gjover/metodes_bayesians/main/notebooks/data/photons.csv\"\n",
    "photons = read.csv(photons_csv)"
   ]
  },
  {
   "cell_type": "markdown",
   "id": "cc127d63",
   "metadata": {},
   "source": [
    "- Calcula i representa gràficament la densitat de la distribució posterior del paràmetre $\\mu$ amb prior $U(-2, 2)$"
   ]
  },
  {
   "cell_type": "markdown",
   "id": "b5d404cf",
   "metadata": {},
   "source": [
    "- Desenvolupa algebraicament l'expressió de la densitat posterior de $\\mu$ per una prior $\\mathcal{N}(\\mu_0, \\sigma_0)$."
   ]
  },
  {
   "cell_type": "markdown",
   "id": "c6cc7b63",
   "metadata": {},
   "source": [
    "- El sistema de posicionament del detector és molt bo i ens permet saber les posicions amb una resolució de $\\sigma_0 = 0.1$. Representa gràficament la densitat de la distribució posterior del paràmetre $\\mu$ de les posicions dels fotons, considerant una distribució prior $\\mathcal{N}(\\mu_0=0, \\sigma_0=0.1)$ i compara-la amb el posterior que feia servir la distribució uniforme."
   ]
  },
  {
   "cell_type": "markdown",
   "id": "ff2e86da",
   "metadata": {},
   "source": [
    "- Quin seria el valor esperat de $\\mu$ i els intervals per una credibilitat del $95\\%$?"
   ]
  },
  {
   "cell_type": "markdown",
   "id": "42567937",
   "metadata": {},
   "source": [
    "- Simula 10000 valors de la distribució posterior i calcula amb les dades simulades els intervals per una credibilitat del $99.994\\%$.  "
   ]
  },
  {
   "cell_type": "markdown",
   "id": "023f01be",
   "metadata": {},
   "source": [
    "- Suposant un estel perfectament alineat, utilitzant per tant una prior de $\\mu$ $\\mathcal{N}(0,\\sigma_0)$, quants fotons hem de mesurar perquè la posició es trobi en l'interval $\\pm 0.01$ amb una credibilitat del $99.994\\%$ "
   ]
  },
  {
   "cell_type": "markdown",
   "id": "7a4aebc5",
   "metadata": {},
   "source": [
    "### Observacions: \n",
    "\n",
    "Les entregues es faran per parelles, canviat de parella a cada entrega.\n",
    "\n",
    "El treball es presentarà en format PDF i haurà d'incloure una anàlisi de la tasca a realitzar, una resolució argumentada dels exercicis i una anàlisi crítica dels resultats.\n",
    "\n",
    "L'entrega es farà al campus virtual."
   ]
  },
  {
   "cell_type": "markdown",
   "id": "cdf82dfa",
   "metadata": {},
   "source": [
    "## Referències\n",
    "\n",
    "- <a id='img_Circinus'></a> https://commons.wikimedia.org/wiki/File:Circinus_X-1.jpg"
   ]
  },
  {
   "cell_type": "markdown",
   "id": "04593902",
   "metadata": {
    "cell_style": "center"
   },
   "source": [
    "Copyright (C) 2022 Gabriel Jover Mañas\n",
    "\n",
    "    Permission is granted to copy, distribute and/or modify this document\n",
    "    under the terms of the GNU Free Documentation License, Version 1.3\n",
    "    or any later version published by the Free Software Foundation;\n",
    "    with no Invariant Sections, no Front-Cover Texts, and no Back-Cover Texts.\n",
    "    A copy of the license is included in the section entitled \"GNU\n",
    "    Free Documentation License\".\n",
    "\n",
    "![GFDL][GFDL]\n",
    "\n",
    "    This program is free software: you can redistribute it and/or modify\n",
    "    it under the terms of the GNU General Public License as published by\n",
    "    the Free Software Foundation, either version 3 of the License, or\n",
    "    (at your option) any later version.\n",
    "\n",
    "    This program is distributed in the hope that it will be useful,\n",
    "    but WITHOUT ANY WARRANTY; without even the implied warranty of\n",
    "    MERCHANTABILITY or FITNESS FOR A PARTICULAR PURPOSE.  See the\n",
    "    GNU General Public License for more details.\n",
    "\n",
    "    You should have received a copy of the GNU General Public License\n",
    "    along with this program.  If not, see <https://www.gnu.org/licenses/>.\n",
    "\n",
    "![GPL3][GPL3]\n",
    "\n",
    "[GFDL]: https://www.gnu.org/graphics/gfdl-logo-small.png \n",
    "[GPL3]: https://www.gnu.org/graphics/gplv3-127x51.png"
   ]
  }
 ],
 "metadata": {
  "jupytext": {
   "formats": "ipynb,Rmd"
  },
  "kernelspec": {
   "display_name": "R",
   "language": "R",
   "name": "ir"
  },
  "language_info": {
   "codemirror_mode": "r",
   "file_extension": ".r",
   "mimetype": "text/x-r-source",
   "name": "R",
   "pygments_lexer": "r",
   "version": "4.2.3"
  }
 },
 "nbformat": 4,
 "nbformat_minor": 5
}
