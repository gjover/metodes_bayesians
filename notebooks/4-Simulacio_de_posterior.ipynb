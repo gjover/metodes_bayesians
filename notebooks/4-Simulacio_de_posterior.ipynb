{
 "cells": [
  {
   "cell_type": "markdown",
   "id": "b5423265",
   "metadata": {},
   "source": [
    "## [Simulació de la posterior][colab]\n",
    "\n",
    "[<center><img src=https://upload.wikimedia.org/wikipedia/commons/thumb/8/8e/Advanced_Six_Minute_Walk_Test_%286MWT%29.jpg/783px-Advanced_Six_Minute_Walk_Test_%286MWT%29.jpg width=50%></center>](#img_Walk_Test)\n",
    "\n",
    "\n",
    "[colab]: https://colab.research.google.com/github/gjover/metodes_bayesians/blob/main/notebooks/4-Simulació_de_posterior.ipynb"
   ]
  },
  {
   "cell_type": "markdown",
   "id": "1eb1cd1a",
   "metadata": {},
   "source": [
    "### Exercici 1:\n",
    "\n",
    "Simula 10000 valors aleatoris de la distribució logista fent servir el mètode de la transformació inversa.\n",
    "\n",
    "Compara els valors simulats amb la corba de la distribució logista i comenta els resultats."
   ]
  },
  {
   "cell_type": "markdown",
   "id": "68e78e5d",
   "metadata": {},
   "source": [
    "### Exercici 2:\n",
    "\n",
    "Simula 10000 valors aleatoris de la distribució Gamma(4,6) fent servir el mètode d'acceptació-rebuig amb g(x) = 1. Quina eficiència té?\n",
    "\n",
    "Repeteix la simulació, aquest cop fent servir g(x) = Gamma(2,2).\n",
    "\n",
    "Compara els valors simulats amb la corba de la distribució Gamma(4,6) i comenta els resultats."
   ]
  },
  {
   "cell_type": "markdown",
   "id": "5bb8b7cb",
   "metadata": {},
   "source": [
    "### Exercici 3:\n",
    "\n",
    "Fem un experiment per caracteritzar la relació entre circumferència pectoral (inch) i volum d'aire respirat (l/min). Volem fer la inferència del pendent i ordenada a l'origen de la recta de regressió $Y_i = \\alpha + \\beta X_i + \\epsilon_i$, assumint que $\\epsilon_i$ segueix una distribució normal centrada a zero amb desviació estàndard $\\sigma$.\n",
    "\n",
    "A experiències anteriors havíem obtingut $Y = (-10\\pm1.3) + (0.5\\pm0.03) X$\n",
    "\n",
    "A partir de les dades de l'arxiu \"chest-air.csv\" genera distribucions posterior d'$\\alpha$, $\\beta$ i $\\sigma$ fent servir el mètode d'acceptació-rebuig.\n",
    "\n",
    "Considera una prior uniforme per la desviació estàndard $U(\\sigma; 0.5, 2.5)$"
   ]
  },
  {
   "cell_type": "markdown",
   "id": "68272fcd",
   "metadata": {},
   "source": [
    "## Referències\n",
    "\n",
    "- <a id='img_Walk_Test'></a> https://commons.wikimedia.org/wiki/File:Advanced_Six_Minute_Walk_Test_(6MWT).jpg"
   ]
  },
  {
   "cell_type": "markdown",
   "id": "a7d8e52c",
   "metadata": {},
   "source": [
    "Copyright (C) 2022 Gabriel Jover Mañas\n",
    "\n",
    "    Permission is granted to copy, distribute and/or modify this document\n",
    "    under the terms of the GNU Free Documentation License, Version 1.3\n",
    "    or any later version published by the Free Software Foundation;\n",
    "    with no Invariant Sections, no Front-Cover Texts, and no Back-Cover Texts.\n",
    "    A copy of the license is included in the section entitled \"GNU\n",
    "    Free Documentation License\".\n",
    "\n",
    "![GFDL][GFDL]\n",
    "\n",
    "    This program is free software: you can redistribute it and/or modify\n",
    "    it under the terms of the GNU General Public License as published by\n",
    "    the Free Software Foundation, either version 3 of the License, or\n",
    "    (at your option) any later version.\n",
    "\n",
    "    This program is distributed in the hope that it will be useful,\n",
    "    but WITHOUT ANY WARRANTY; without even the implied warranty of\n",
    "    MERCHANTABILITY or FITNESS FOR A PARTICULAR PURPOSE.  See the\n",
    "    GNU General Public License for more details.\n",
    "\n",
    "    You should have received a copy of the GNU General Public License\n",
    "    along with this program.  If not, see <https://www.gnu.org/licenses/>.\n",
    "\n",
    "![GPL3][GPL3]\n",
    "\n",
    "[GFDL]: https://www.gnu.org/graphics/gfdl-logo-small.png \n",
    "[GPL3]: https://www.gnu.org/graphics/gplv3-127x51.png"
   ]
  }
 ],
 "metadata": {
  "jupytext": {
   "formats": "ipynb,Rmd"
  },
  "kernelspec": {
   "display_name": "R",
   "language": "R",
   "name": "ir"
  },
  "language_info": {
   "codemirror_mode": "r",
   "file_extension": ".r",
   "mimetype": "text/x-r-source",
   "name": "R",
   "pygments_lexer": "r",
   "version": "4.3.2"
  }
 },
 "nbformat": 4,
 "nbformat_minor": 5
}
