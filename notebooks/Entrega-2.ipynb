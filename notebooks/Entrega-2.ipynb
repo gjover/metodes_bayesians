{
 "cells": [
  {
   "cell_type": "markdown",
   "id": "915d2efc",
   "metadata": {
    "lines_to_next_cell": 0
   },
   "source": [
    "## [Entrega 2][colab]\n",
    "\n",
    "[<center><img src=https://upload.wikimedia.org/wikipedia/commons/thumb/9/9e/En_honor_a_los_muertos_2.jpg/640px-En_honor_a_los_muertos_2.jpg width=50%></center>](#img_Tomba)\n",
    "\n",
    "\n",
    "[colab]: https://colab.research.google.com/github/gjover/metodes_bayesians/blob/main/notebooks/Entrega-2.ipynb"
   ]
  },
  {
   "cell_type": "markdown",
   "id": "48aaaa5b",
   "metadata": {},
   "source": [
    "\n"
   ]
  },
  {
   "cell_type": "markdown",
   "id": "533366ff",
   "metadata": {},
   "source": [
    "### Defuncions a Catalunya:\n",
    "\n",
    "Per estudiar la taxa de defuncions a Catalunya suposem que el nombre de defuncions de cada any són independents i segueixen una distribució de Poisson($\\lambda$).\n",
    "\n",
    "Baixa els Indicadors de mortalitat de l'Institut d’Estadística de Catalunya.\n",
    "\n",
    "https://www.idescat.cat/indicadors/?id=aec&n=15269\n",
    "\n",
    "\n",
    "Per fer l'anàlisi selecciona les defuncions totals entre 1999 i 2019."
   ]
  },
  {
   "cell_type": "markdown",
   "id": "7bfe1313",
   "metadata": {},
   "source": [
    "- Obté una distribució prior no informatiu tipus Jeffreys per a aquest model i calcula la distribució posterior de $\\lambda$ amb aquesta prior."
   ]
  },
  {
   "cell_type": "markdown",
   "id": "9d5495df",
   "metadata": {},
   "source": [
    "- Calcular el valor esperat de $\\lambda$ i l’interval de credibilitat centrat del 95% de λ."
   ]
  },
  {
   "cell_type": "markdown",
   "id": "ca01f9bc",
   "metadata": {},
   "source": [
    "- Calcula i representa la distribució posterior predictiva i estimar la probabilitat de què el nombre de naixements l’any vinent sigui $k_\\text{new} = 60.000$\n",
    "\n",
    "(recorda com era la distribució binomial negativa)"
   ]
  },
  {
   "cell_type": "markdown",
   "id": "d5e704b4",
   "metadata": {},
   "source": [
    "- Calcula el factor de Bayes per la hipòtesi que hi haurà 60.000 o més defuncions contra la hipòtesi que n'hi hauran menys.\n",
    "\n",
    "Fes servir el prior de Jeffreys i l'assumpció $P(H_0) = P(H_1) = 0.5$."
   ]
  },
  {
   "cell_type": "markdown",
   "id": "7a4aebc5",
   "metadata": {},
   "source": [
    "### Observacions: \n",
    "\n",
    "Recordeu argumentar adequadament els càlculs i els resultats.\n",
    "\n",
    "Afegiu al final un comentari crític dels resultats obtinguts.\n",
    "\n",
    "Les entregues es faran per parelles, canviat de parella a cada entrega.\n",
    "\n",
    "El treball es presentarà en format PDF i haurà d'incloure una anàlisi de la tasca a realitzar, una resolució argumentada dels exercicis i una anàlisi crítica dels resultats.\n",
    "\n",
    "L'entrega es farà al campus virtual abans de l' 1 de Novembre."
   ]
  },
  {
   "cell_type": "markdown",
   "id": "cdf82dfa",
   "metadata": {},
   "source": [
    "## Referències\n",
    "\n",
    "- <a id='img_Infant'></a> https://commons.wikimedia.org/wiki/File:En_honor_a_los_muertos_2.jpg"
   ]
  },
  {
   "cell_type": "markdown",
   "id": "04593902",
   "metadata": {
    "cell_style": "center"
   },
   "source": [
    "Copyright (C) 2022 Gabriel Jover Mañas\n",
    "\n",
    "    Permission is granted to copy, distribute and/or modify this document\n",
    "    under the terms of the GNU Free Documentation License, Version 1.3\n",
    "    or any later version published by the Free Software Foundation;\n",
    "    with no Invariant Sections, no Front-Cover Texts, and no Back-Cover Texts.\n",
    "    A copy of the license is included in the section entitled \"GNU\n",
    "    Free Documentation License\".\n",
    "\n",
    "![GFDL][GFDL]\n",
    "\n",
    "    This program is free software: you can redistribute it and/or modify\n",
    "    it under the terms of the GNU General Public License as published by\n",
    "    the Free Software Foundation, either version 3 of the License, or\n",
    "    (at your option) any later version.\n",
    "\n",
    "    This program is distributed in the hope that it will be useful,\n",
    "    but WITHOUT ANY WARRANTY; without even the implied warranty of\n",
    "    MERCHANTABILITY or FITNESS FOR A PARTICULAR PURPOSE.  See the\n",
    "    GNU General Public License for more details.\n",
    "\n",
    "    You should have received a copy of the GNU General Public License\n",
    "    along with this program.  If not, see <https://www.gnu.org/licenses/>.\n",
    "\n",
    "![GPL3][GPL3]\n",
    "\n",
    "[GFDL]: https://www.gnu.org/graphics/gfdl-logo-small.png \n",
    "[GPL3]: https://www.gnu.org/graphics/gplv3-127x51.png"
   ]
  }
 ],
 "metadata": {
  "jupytext": {
   "formats": "ipynb,Rmd"
  },
  "kernelspec": {
   "display_name": "R",
   "language": "R",
   "name": "ir"
  },
  "language_info": {
   "codemirror_mode": "r",
   "file_extension": ".r",
   "mimetype": "text/x-r-source",
   "name": "R",
   "pygments_lexer": "r",
   "version": "4.2.3"
  }
 },
 "nbformat": 4,
 "nbformat_minor": 5
}
